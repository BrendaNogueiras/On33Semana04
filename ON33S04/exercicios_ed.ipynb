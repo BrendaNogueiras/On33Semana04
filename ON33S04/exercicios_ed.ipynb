{
 "cells": [
  {
   "cell_type": "code",
   "execution_count": 2,
   "metadata": {},
   "outputs": [
    {
     "name": "stdout",
     "output_type": "stream",
     "text": [
      "Maça\n",
      "Banana\n",
      "Pão\n",
      "Leite\n",
      "Queijo\n"
     ]
    }
   ],
   "source": [
    "lista_de_compras = [\"Maça\", \"Banana\", \"Pão\", \"Leite\", \"Queijo\"]\n",
    "\n",
    "for item in lista_de_compras:\n",
    "    print(item)"
   ]
  }
 ],
 "metadata": {
  "kernelspec": {
   "display_name": "Python 3",
   "language": "python",
   "name": "python3"
  },
  "language_info": {
   "codemirror_mode": {
    "name": "ipython",
    "version": 3
   },
   "file_extension": ".py",
   "mimetype": "text/x-python",
   "name": "python",
   "nbconvert_exporter": "python",
   "pygments_lexer": "ipython3",
   "version": "3.12.4"
  }
 },
 "nbformat": 4,
 "nbformat_minor": 2
}
