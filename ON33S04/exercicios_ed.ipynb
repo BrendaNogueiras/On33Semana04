{
 "cells": [
  {
   "cell_type": "markdown",
   "metadata": {},
   "source": [
    "Exercicios de Estrutura de Dados\n",
    "Lista: separada por chaves\n",
    "\n",
    "dicionários: separada por parenteses"
   ]
  },
  {
   "cell_type": "code",
   "execution_count": 2,
   "metadata": {},
   "outputs": [
    {
     "name": "stdout",
     "output_type": "stream",
     "text": [
      "Maça\n",
      "Banana\n",
      "Pão\n",
      "Leite\n",
      "Queijo\n"
     ]
    }
   ],
   "source": [
    "lista_de_compras = [\"Maça\", \"Banana\", \"Pão\", \"Leite\", \"Queijo\"]\n",
    "\n",
    "for item in lista_de_compras:\n",
    "    print(item)"
   ]
  },
  {
   "cell_type": "markdown",
   "metadata": {},
   "source": [
    "Exercício 1: Trabalhando com Tuplas\n",
    "Objetivo: Criar uma tupla com nomes de cores e imprimir cada cor."
   ]
  },
  {
   "cell_type": "code",
   "execution_count": 3,
   "metadata": {},
   "outputs": [
    {
     "name": "stdout",
     "output_type": "stream",
     "text": [
      "Azul\n",
      "Amarelo\n",
      "Vermelho\n",
      "Roxo\n"
     ]
    }
   ],
   "source": [
    "cores = (\"Azul\", \"Amarelo\", \"Vermelho\", \"Roxo\")\n",
    "\n",
    "for nome in cores:\n",
    "    print(nome)"
   ]
  },
  {
   "cell_type": "markdown",
   "metadata": {},
   "source": [
    "Exercício 2: Trabalhando com Dicionários\n",
    "Definindo um dicionário com informações sobre filmes"
   ]
  },
  {
   "cell_type": "code",
   "execution_count": 10,
   "metadata": {},
   "outputs": [
    {
     "name": "stdout",
     "output_type": "stream",
     "text": [
      "O filme Divertidamente é do gênero Infantil\n",
      "O filme Velozes e Furiosos é do gênero Ação\n",
      "O filme Premonição é do gênero Terror\n",
      "O filme Gente Grande é do gênero Comédia\n"
     ]
    }
   ],
   "source": [
    "filmes = {\"Divertidamente\": \"Infantil\",\n",
    "          \"Velozes e Furiosos\": \"Ação\",\n",
    "          \"Premonição\": \"Terror\",\n",
    "          \"Gente Grande\": \"Comédia\"}\n",
    "\n",
    "for filme, genero in filmes.items():\n",
    "    print(f\"O filme {filme} é do gênero {genero}\")"
   ]
  }
 ],
 "metadata": {
  "kernelspec": {
   "display_name": "Python 3",
   "language": "python",
   "name": "python3"
  },
  "language_info": {
   "codemirror_mode": {
    "name": "ipython",
    "version": 3
   },
   "file_extension": ".py",
   "mimetype": "text/x-python",
   "name": "python",
   "nbconvert_exporter": "python",
   "pygments_lexer": "ipython3",
   "version": "3.12.4"
  }
 },
 "nbformat": 4,
 "nbformat_minor": 2
}
