{
 "cells": [
  {
   "cell_type": "markdown",
   "metadata": {},
   "source": [
    "FOR\n",
    "\n",
    "é uma forma mais reduzida de fazer o looping\n",
    "\n",
    "Zero é o inicio, de qual ponto vai partir\n",
    "6 é o range onde quero chegar, ele vai contar até 5\n",
    "1 é o fim, quanto vai incrementar em cada numero\n",
    "\n",
    "for i in range(0,6,1):\n",
    "    print(i)\n",
    "\n",
    "    OU\n",
    "for i in range(6):\n",
    "    print(i)    \n",
    "\n"
   ]
  },
  {
   "cell_type": "code",
   "execution_count": 2,
   "metadata": {},
   "outputs": [
    {
     "name": "stdout",
     "output_type": "stream",
     "text": [
      "0\n",
      "1\n",
      "2\n",
      "3\n",
      "4\n",
      "5\n"
     ]
    }
   ],
   "source": [
    "for i in range(6):\n",
    "    print(i)"
   ]
  },
  {
   "cell_type": "code",
   "execution_count": 16,
   "metadata": {},
   "outputs": [
    {
     "name": "stdout",
     "output_type": "stream",
     "text": [
      "Nome 1: Ana\n",
      "Nome 2: Carlos\n",
      "Nome 3: Maria\n",
      "Nome 4: Pedro\n",
      "4\n"
     ]
    }
   ],
   "source": [
    "nomes = [\"Ana\", \"Carlos\", \"Maria\", \"Pedro\"]\n",
    "\n",
    "for indice in range(len(nomes)):\n",
    "    print(f\"Nome {indice + 1}: {nomes[indice]}\")\n",
    "    \n",
    "    "
   ]
  },
  {
   "cell_type": "markdown",
   "metadata": {},
   "source": [
    "# Exercício 1: Imprimir números pares de 1 a 10\n",
    "outra possibilidade\n",
    "\n",
    "for num in range(1, 11):  \n",
    "    if num % 2 == 0:  \n",
    "        print(num)"
   ]
  },
  {
   "cell_type": "code",
   "execution_count": 21,
   "metadata": {},
   "outputs": [
    {
     "name": "stdout",
     "output_type": "stream",
     "text": [
      "2\n",
      "4\n",
      "6\n",
      "8\n",
      "10\n"
     ]
    }
   ],
   "source": [
    "for parImpar in range(2,11,2):\n",
    "    print(parImpar)    "
   ]
  },
  {
   "cell_type": "markdown",
   "metadata": {},
   "source": [
    "Exercício 2: Calcular a soma dos primeiros 5 números naturais"
   ]
  },
  {
   "cell_type": "code",
   "execution_count": 36,
   "metadata": {},
   "outputs": [
    {
     "name": "stdout",
     "output_type": "stream",
     "text": [
      "A soma é: 15\n"
     ]
    }
   ],
   "source": [
    "numero = 0\n",
    "\n",
    "for soma in range(6):\n",
    "    numero += soma\n",
    "\n",
    "print(f\"A soma é: {numero}\")"
   ]
  }
 ],
 "metadata": {
  "kernelspec": {
   "display_name": "Python 3",
   "language": "python",
   "name": "python3"
  },
  "language_info": {
   "codemirror_mode": {
    "name": "ipython",
    "version": 3
   },
   "file_extension": ".py",
   "mimetype": "text/x-python",
   "name": "python",
   "nbconvert_exporter": "python",
   "pygments_lexer": "ipython3",
   "version": "3.12.4"
  }
 },
 "nbformat": 4,
 "nbformat_minor": 2
}
