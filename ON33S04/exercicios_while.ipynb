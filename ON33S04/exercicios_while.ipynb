{
 "cells": [
  {
   "cell_type": "code",
   "execution_count": 2,
   "metadata": {},
   "outputs": [
    {
     "name": "stdout",
     "output_type": "stream",
     "text": [
      "Eu tenho  0 balas\n",
      "Eu tenho  1 balas\n",
      "Eu tenho  2 balas\n",
      "Eu tenho  3 balas\n",
      "Eu tenho  4 balas\n"
     ]
    }
   ],
   "source": [
    "balas = 0\n",
    "\n",
    "while balas <5:\n",
    "    print(\"Eu tenho \", balas,\"balas\")\n",
    "    balas = balas +1"
   ]
  },
  {
   "cell_type": "code",
   "execution_count": 3,
   "metadata": {},
   "outputs": [
    {
     "name": "stdout",
     "output_type": "stream",
     "text": [
      "Ainda não esta cheio, tenho 0 litros de agua no balde\n",
      "Ainda não esta cheio, tenho 1 litros de agua no balde\n",
      "Ainda não esta cheio, tenho 2 litros de agua no balde\n",
      "Ainda não esta cheio, tenho 3 litros de agua no balde\n",
      "Ainda não esta cheio, tenho 4 litros de agua no balde\n",
      "O balde esta cheio\n"
     ]
    }
   ],
   "source": [
    "agua_no_balde = 0\n",
    "balde_cheio = 5\n",
    "\n",
    "while agua_no_balde < balde_cheio:\n",
    "    print(\"Ainda não esta cheio, tenho\", agua_no_balde, \"litros de agua no balde\")\n",
    "    agua_no_balde +=1\n",
    "    \n",
    "print(\"O balde esta cheio\")    "
   ]
  },
  {
   "cell_type": "markdown",
   "metadata": {},
   "source": [
    "Exercício 1: Contagem Regressiva Simples\n",
    "Este exercício pede para criar um contador regressivo de 5 até 1."
   ]
  },
  {
   "cell_type": "code",
   "execution_count": 29,
   "metadata": {},
   "outputs": [
    {
     "name": "stdout",
     "output_type": "stream",
     "text": [
      "Seu numero atual é:  10  de 10\n",
      "Seu numero atual é:  9  de 10\n",
      "Seu numero atual é:  8  de 10\n",
      "Seu numero atual é:  7  de 10\n",
      "Seu numero atual é:  6  de 10\n",
      "Seu numero atual é:  5  de 10\n",
      "Seu numero atual é:  4  de 10\n",
      "Seu numero atual é:  3  de 10\n",
      "Seu numero atual é:  2  de 10\n",
      "Seu numero atual é:  1  de 10\n",
      "Contagem encerrada!\n"
     ]
    }
   ],
   "source": [
    "\n",
    "numero_inicial = 10\n",
    "numero_final = 0\n",
    "\n",
    "while numero_inicial > numero_final:\n",
    "    print(\"Seu numero atual é: \", numero_inicial, \" de 10\")\n",
    "    numero_inicial -=1\n",
    "print(\"Contagem encerrada!\")    "
   ]
  },
  {
   "cell_type": "markdown",
   "metadata": {},
   "source": [
    "Exercício 2: Tabuada de Multiplicação\n",
    "Neste exercício, o programa calcula e exibe a tabuada de multiplicação de um número escolhido pelo usuário.\n"
   ]
  },
  {
   "cell_type": "code",
   "execution_count": 4,
   "metadata": {},
   "outputs": [
    {
     "name": "stdout",
     "output_type": "stream",
     "text": [
      "O numero 7 vezes 0 é 0\n",
      "O numero 7 vezes 1 é 7\n",
      "O numero 7 vezes 2 é 14\n",
      "O numero 7 vezes 3 é 21\n",
      "O numero 7 vezes 4 é 28\n",
      "O numero 7 vezes 5 é 35\n",
      "O numero 7 vezes 6 é 42\n",
      "O numero 7 vezes 7 é 49\n",
      "O numero 7 vezes 8 é 56\n",
      "O numero 7 vezes 9 é 63\n",
      "O numero 7 vezes 10 é 70\n",
      "Fim da Tabuada!\n"
     ]
    }
   ],
   "source": [
    "\n",
    "tabuada_inicio = int(input(\"Digite o numero da tabuada que gostaria de ver: \"))\n",
    "multiplicador = 0\n",
    "\n",
    "while multiplicador <=10:\n",
    "    resultado = tabuada_inicio * multiplicador\n",
    "    print(f\"O numero {tabuada_inicio} vezes {multiplicador} é {resultado}\" )\n",
    "    multiplicador +=1\n",
    "    \n",
    "print(\"Fim da Tabuada!\")    "
   ]
  }
 ],
 "metadata": {
  "kernelspec": {
   "display_name": "Python 3",
   "language": "python",
   "name": "python3"
  },
  "language_info": {
   "codemirror_mode": {
    "name": "ipython",
    "version": 3
   },
   "file_extension": ".py",
   "mimetype": "text/x-python",
   "name": "python",
   "nbconvert_exporter": "python",
   "pygments_lexer": "ipython3",
   "version": "3.12.4"
  },
  "polyglot_notebook": {
   "kernelInfo": {
    "defaultKernelName": "csharp",
    "items": [
     {
      "aliases": [],
      "name": "csharp"
     }
    ]
   }
  }
 },
 "nbformat": 4,
 "nbformat_minor": 2
}
